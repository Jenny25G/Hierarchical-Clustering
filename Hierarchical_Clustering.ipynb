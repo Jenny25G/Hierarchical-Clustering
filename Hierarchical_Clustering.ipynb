{
  "metadata": {
    "language_info": {
      "codemirror_mode": {
        "name": "python",
        "version": 3
      },
      "file_extension": ".py",
      "mimetype": "text/x-python",
      "name": "python",
      "nbconvert_exporter": "python",
      "pygments_lexer": "ipython3",
      "version": "3.8"
    },
    "kernelspec": {
      "name": "python",
      "display_name": "Pyolite",
      "language": "python"
    }
  },
  "nbformat_minor": 4,
  "nbformat": 4,
  "cells": [
    {
      "cell_type": "markdown",
      "source": "# Hierarchical Clustering - Agglomerative",
      "metadata": {}
    },
    {
      "cell_type": "markdown",
      "source": "### Importing Libraries",
      "metadata": {}
    },
    {
      "cell_type": "code",
      "source": "import piplite\nawait piplite.install(['pandas'])\nawait piplite.install(['matplotlib'])\nawait piplite.install(['scipy'])",
      "metadata": {
        "trusted": true
      },
      "execution_count": 1,
      "outputs": []
    },
    {
      "cell_type": "code",
      "source": "import numpy as np \nimport pandas as pd\nfrom scipy import ndimage \nfrom scipy.cluster import hierarchy \nfrom scipy.spatial import distance_matrix \nfrom matplotlib import pyplot as plt \nfrom sklearn import manifold, datasets \nfrom sklearn.cluster import AgglomerativeClustering \nfrom sklearn.datasets import make_blobs \n%matplotlib inline",
      "metadata": {
        "trusted": true
      },
      "execution_count": 2,
      "outputs": []
    },
    {
      "cell_type": "code",
      "source": "from pyodide.http import pyfetch\n\nasync def download(url, filename):\n    response = await pyfetch(url)\n    if response.status == 200:\n        with open(filename, \"wb\") as f:\n            f.write(await response.bytes())",
      "metadata": {
        "trusted": true
      },
      "execution_count": 3,
      "outputs": []
    },
    {
      "cell_type": "markdown",
      "source": "### Generating random data",
      "metadata": {}
    },
    {
      "cell_type": "code",
      "source": "X1, y1 = make_blobs(n_samples=50, centers=[[4,4], [-2, -1], [1, 1], [10,4]], cluster_std=0.9)",
      "metadata": {
        "trusted": true
      },
      "execution_count": 4,
      "outputs": []
    },
    {
      "cell_type": "markdown",
      "source": "### Scatter plot of the data",
      "metadata": {}
    },
    {
      "cell_type": "code",
      "source": "plt.scatter(X1[:, 0], X1[:, 1], marker='o') ",
      "metadata": {
        "trusted": true
      },
      "execution_count": 5,
      "outputs": [
        {
          "execution_count": 5,
          "output_type": "execute_result",
          "data": {
            "text/plain": "<matplotlib.collections.PathCollection at 0x5582b40>"
          },
          "metadata": {}
        },
        {
          "output_type": "display_data",
          "data": {
            "text/plain": "<Figure size 640x480 with 1 Axes>",
            "image/png": "[encoded data removed]"
          },
          "metadata": {}
        }
      ]
    },
    {
      "cell_type": "markdown",
      "source": "### Agglomerative clustering",
      "metadata": {
        "tags": []
      }
    },
    {
      "cell_type": "code",
      "source": "agglom = AgglomerativeClustering(n_clusters = 4, linkage = 'average')",
      "metadata": {
        "trusted": true
      },
      "execution_count": 6,
      "outputs": []
    },
    {
      "cell_type": "markdown",
      "source": "### Fitting the model",
      "metadata": {}
    },
    {
      "cell_type": "code",
      "source": "agglom.fit(X1,y1)",
      "metadata": {
        "trusted": true
      },
      "execution_count": 7,
      "outputs": [
        {
          "execution_count": 7,
          "output_type": "execute_result",
          "data": {
            "text/plain": "AgglomerativeClustering(linkage='average', n_clusters=4)"
          },
          "metadata": {}
        }
      ]
    },
    {
      "cell_type": "markdown",
      "source": "### Creating figure size",
      "metadata": {}
    },
    {
      "cell_type": "code",
      "source": "plt.figure(figsize=(6,4))",
      "metadata": {
        "trusted": true
      },
      "execution_count": 8,
      "outputs": [
        {
          "execution_count": 8,
          "output_type": "execute_result",
          "data": {
            "text/plain": "<Figure size 600x400 with 0 Axes>"
          },
          "metadata": {}
        },
        {
          "output_type": "display_data",
          "data": {
            "text/plain": "<Figure size 600x400 with 0 Axes>"
          },
          "metadata": {}
        }
      ]
    },
    {
      "cell_type": "markdown",
      "source": "### Creating the minimum and maximum range",
      "metadata": {}
    },
    {
      "cell_type": "code",
      "source": "x_min, x_max = np.min(X1, axis=0), np.max(X1, axis=0)",
      "metadata": {
        "trusted": true
      },
      "execution_count": 9,
      "outputs": []
    },
    {
      "cell_type": "markdown",
      "source": "### Getting Average distance",
      "metadata": {}
    },
    {
      "cell_type": "code",
      "source": "X1 = (X1 - x_min) / (x_max - x_min)",
      "metadata": {
        "trusted": true
      },
      "execution_count": 10,
      "outputs": []
    },
    {
      "cell_type": "markdown",
      "source": "### Original data before Clustering",
      "metadata": {}
    },
    {
      "cell_type": "code",
      "source": "for i in range(X1.shape[0]):\n    plt.text(X1[i, 0], X1[i, 1], str(y1[i]),\n             color=plt.cm.nipy_spectral(agglom.labels_[i] / 10.),\n             fontdict={'weight': 'bold', 'size': 9})\n    \nplt.xticks([])\nplt.yticks([])\n\nplt.scatter(X1[:, 0], X1[:, 1], marker='.')\n# Display the plot\nplt.show()",
      "metadata": {
        "trusted": true
      },
      "execution_count": 15,
      "outputs": [
        {
          "output_type": "display_data",
          "data": {
            "text/plain": "<pyolite.display.Image at 0x5ce7c58>",
            "image/png": "[encoded data removed]"
          },
          "metadata": {}
        },
        {
          "output_type": "display_data",
          "data": {
            "text/plain": "<Figure size 640x480 with 0 Axes>"
          },
          "metadata": {}
        }
      ]
    },
    {
      "cell_type": "markdown",
      "source": "### Dendogram for Agglormerative Hierarchical Clustering",
      "metadata": {}
    },
    {
      "cell_type": "code",
      "source": "dist_matrix = distance_matrix(X1,X1) \nprint(dist_matrix)",
      "metadata": {
        "trusted": true
      },
      "execution_count": 16,
      "outputs": [
        {
          "name": "stdout",
          "text": "[[0.         0.51489855 0.50392223 ... 0.2434895  0.34864246 0.66333642]\n [0.51489855 0.         0.11524415 ... 0.74594617 0.74721032 0.17421028]\n [0.50392223 0.11524415 0.         ... 0.74522903 0.77992563 0.16439882]\n ...\n [0.2434895  0.74594617 0.74522903 ... 0.         0.22179775 0.90201534]\n [0.34864246 0.74721032 0.77992563 ... 0.22179775 0.         0.91826203]\n [0.66333642 0.17421028 0.16439882 ... 0.90201534 0.91826203 0.        ]]\n",
          "output_type": "stream"
        }
      ]
    },
    {
      "cell_type": "code",
      "source": "Z = hierarchy.linkage(dist_matrix, 'complete')",
      "metadata": {
        "trusted": true
      },
      "execution_count": 17,
      "outputs": [
        {
          "name": "stderr",
          "text": "<ipython-input-17-3814b774a052>:1: ClusterWarning: scipy.cluster: The symmetric non-negative hollow observation matrix looks suspiciously like an uncondensed distance matrix\n  Z = hierarchy.linkage(dist_matrix, 'complete')\n",
          "output_type": "stream"
        }
      ]
    },
    {
      "cell_type": "code",
      "source": "dendro = hierarchy.dendrogram(Z)",
      "metadata": {
        "trusted": true
      },
      "execution_count": 18,
      "outputs": [
        {
          "output_type": "display_data",
          "data": {
            "text/plain": "<Figure size 640x480 with 1 Axes>",
            "image/png": "[encoded data removed]"
          },
          "metadata": {}
        }
      ]
    }
  ]
}